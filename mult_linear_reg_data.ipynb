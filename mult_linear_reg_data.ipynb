{
 "cells": [
  {
   "cell_type": "code",
   "execution_count": 1,
   "id": "81ce4715",
   "metadata": {},
   "outputs": [
    {
     "name": "stdout",
     "output_type": "stream",
     "text": [
      "Dataset 'student_performance_dataset.csv' generated successfully!\n",
      "   Hours_Studied  Previous_Score  Sleep_Hours  Attendance_Percent  \\\n",
      "0       4.370861       78.521899     4.515619           66.757403   \n",
      "1       9.556429       45.048398     8.512765           71.143614   \n",
      "2       7.587945       49.697723     6.526262           67.080419   \n",
      "3       6.387926       93.913251     8.132287           63.548101   \n",
      "4       2.404168       76.385744     5.600248           64.825435   \n",
      "\n",
      "   Extracurricular_Hours  Performance_Index  \n",
      "0               3.536193         117.361690  \n",
      "1               0.762695         127.453391  \n",
      "2               2.881442         117.547303  \n",
      "3               3.033575         149.061061  \n",
      "4               2.120653         113.179639  \n"
     ]
    }
   ],
   "source": [
    "import numpy as np\n",
    "import pandas as pd\n",
    "\n",
    "# Set seed for reproducibility\n",
    "np.random.seed(42)\n",
    "\n",
    "# Number of samples\n",
    "n_samples = 200\n",
    "\n",
    "# Generate features: hours studied, previous score, sleep hours, attendance %, extracurricular hrs\n",
    "hours_studied = np.random.uniform(1, 10, n_samples)\n",
    "prev_score = np.random.uniform(40, 100, n_samples)\n",
    "sleep_hrs = np.random.uniform(4, 9, n_samples)\n",
    "attendance = np.random.uniform(60, 100, n_samples)\n",
    "extracurricular_hrs = np.random.uniform(0, 5, n_samples)\n",
    "\n",
    "# Define coefficients for each feature\n",
    "coeffs = [5, 0.8, 2, 0.5, -3]\n",
    "\n",
    "# Generate target variable 'performance index' as linear combination + noise\n",
    "noise = np.random.normal(0, 5, n_samples)\n",
    "performance_index = (coeffs[0] * hours_studied +\n",
    "                     coeffs[1] * prev_score +\n",
    "                     coeffs[2] * sleep_hrs +\n",
    "                     coeffs[3] * attendance +\n",
    "                     coeffs[4] * extracurricular_hrs +\n",
    "                     noise)\n",
    "\n",
    "# Create DataFrame\n",
    "df = pd.DataFrame({\n",
    "    'Hours_Studied': hours_studied,\n",
    "    'Previous_Score': prev_score,\n",
    "    'Sleep_Hours': sleep_hrs,\n",
    "    'Attendance_Percent': attendance,\n",
    "    'Extracurricular_Hours': extracurricular_hrs,\n",
    "    'Performance_Index': performance_index\n",
    "})\n",
    "\n",
    "# Save to CSV\n",
    "df.to_csv('student_performance_dataset.csv', index=False)\n",
    "\n",
    "print(\"Dataset 'student_performance_dataset.csv' generated successfully!\")\n",
    "print(df.head())\n"
   ]
  }
 ],
 "metadata": {
  "kernelspec": {
   "display_name": "pyenv",
   "language": "python",
   "name": "python3"
  },
  "language_info": {
   "codemirror_mode": {
    "name": "ipython",
    "version": 3
   },
   "file_extension": ".py",
   "mimetype": "text/x-python",
   "name": "python",
   "nbconvert_exporter": "python",
   "pygments_lexer": "ipython3",
   "version": "3.10.18"
  }
 },
 "nbformat": 4,
 "nbformat_minor": 5
}
