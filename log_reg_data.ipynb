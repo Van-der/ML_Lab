{
 "cells": [
  {
   "cell_type": "code",
   "execution_count": 1,
   "id": "959726b9",
   "metadata": {},
   "outputs": [
    {
     "name": "stdout",
     "output_type": "stream",
     "text": [
      "Dataset 'insurance_data_logreg.csv' generated successfully!\n",
      "   Age  Bought_Insurance\n",
      "0   56                 1\n",
      "1   69                 1\n",
      "2   46                 0\n",
      "3   32                 0\n",
      "4   60                 1\n"
     ]
    }
   ],
   "source": [
    "import numpy as np\n",
    "import pandas as pd\n",
    "\n",
    "# Seed for reproducibility\n",
    "np.random.seed(42)\n",
    "\n",
    "# Number of samples\n",
    "n_samples = 200\n",
    "\n",
    "# Generate ages between 18 and 70\n",
    "age = np.random.randint(18, 71, n_samples)\n",
    "\n",
    "# Generate probability of buying insurance based on age with a sigmoid pattern\n",
    "def sigmoid(x):\n",
    "    return 1 / (1 + np.exp(-0.1*(x - 40)))  # Center around 40 years\n",
    "\n",
    "probability = sigmoid(age)\n",
    "\n",
    "# Generate binary target based on probability\n",
    "bought_insurance = np.random.binomial(1, probability)\n",
    "\n",
    "# Create DataFrame\n",
    "df = pd.DataFrame({\n",
    "    'Age': age,\n",
    "    'Bought_Insurance': bought_insurance\n",
    "})\n",
    "\n",
    "# Save to CSV\n",
    "df.to_csv('insurance_data_logreg.csv', index=False)\n",
    "\n",
    "print(\"Dataset 'insurance_data_logreg.csv' generated successfully!\")\n",
    "print(df.head())\n"
   ]
  }
 ],
 "metadata": {
  "kernelspec": {
   "display_name": "pyenv",
   "language": "python",
   "name": "python3"
  },
  "language_info": {
   "codemirror_mode": {
    "name": "ipython",
    "version": 3
   },
   "file_extension": ".py",
   "mimetype": "text/x-python",
   "name": "python",
   "nbconvert_exporter": "python",
   "pygments_lexer": "ipython3",
   "version": "3.10.18"
  }
 },
 "nbformat": 4,
 "nbformat_minor": 5
}
