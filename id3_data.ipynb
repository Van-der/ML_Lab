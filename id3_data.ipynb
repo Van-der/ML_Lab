{
 "cells": [
  {
   "cell_type": "code",
   "execution_count": 1,
   "id": "bff5e4f5",
   "metadata": {},
   "outputs": [
    {
     "name": "stdout",
     "output_type": "stream",
     "text": [
      "     Outlook Temperature Humidity    Wind PlayTennis\n",
      "0      sunny         hot     high    weak         no\n",
      "1      sunny         hot     high  strong         no\n",
      "2   overcast         hot     high    weak        yes\n",
      "3       rain        mild     high    weak        yes\n",
      "4       rain        cool   normal    weak        yes\n",
      "5       rain        cool   normal  strong         no\n",
      "6   overcast        cool   normal  strong        yes\n",
      "7      sunny        mild     high    weak         no\n",
      "8      sunny        cool   normal    weak        yes\n",
      "9       rain        mild   normal    weak        yes\n",
      "10     sunny        mild   normal  strong        yes\n",
      "11  overcast        mild     high  strong        yes\n",
      "12  overcast         hot   normal    weak        yes\n",
      "13      rain        mild     high  strong         no\n"
     ]
    }
   ],
   "source": [
    "import pandas as pd\n",
    "\n",
    "# Classic categorical dataset for ID3\n",
    "data = {\n",
    "    'Outlook':    ['sunny', 'sunny', 'overcast', 'rain', 'rain', 'rain', 'overcast', 'sunny', 'sunny', 'rain', 'sunny', 'overcast', 'overcast', 'rain'],\n",
    "    'Temperature':['hot',   'hot',   'hot',      'mild','cool', 'cool', 'cool',      'mild',  'cool',  'mild',  'mild',    'mild',     'hot',      'mild'],\n",
    "    'Humidity':   ['high',  'high',  'high',     'high','normal','normal','normal', 'high',   'normal','normal','normal', 'high',     'normal',   'high'],\n",
    "    'Wind':       ['weak',  'strong','weak',     'weak','weak',  'strong','strong', 'weak',   'weak',  'weak',  'strong', 'strong',   'weak',      'strong'],\n",
    "    'PlayTennis': ['no',    'no',    'yes',      'yes', 'yes',   'no',   'yes',      'no',    'yes',   'yes',   'yes',     'yes',      'yes',      'no']\n",
    "}\n",
    "\n",
    "df = pd.DataFrame(data)\n",
    "df.to_csv(\"play_tennis_id3.csv\", index=False)\n",
    "\n",
    "print(df)\n"
   ]
  }
 ],
 "metadata": {
  "kernelspec": {
   "display_name": "pyenv",
   "language": "python",
   "name": "python3"
  },
  "language_info": {
   "codemirror_mode": {
    "name": "ipython",
    "version": 3
   },
   "file_extension": ".py",
   "mimetype": "text/x-python",
   "name": "python",
   "nbconvert_exporter": "python",
   "pygments_lexer": "ipython3",
   "version": "3.10.18"
  }
 },
 "nbformat": 4,
 "nbformat_minor": 5
}
