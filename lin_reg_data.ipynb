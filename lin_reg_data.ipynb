{
 "cells": [
  {
   "cell_type": "code",
   "execution_count": 2,
   "id": "4e28f6fa",
   "metadata": {},
   "outputs": [
    {
     "name": "stdout",
     "output_type": "stream",
     "text": [
      "Dataset saved as 'salary_experience_dataset.csv'\n"
     ]
    }
   ],
   "source": [
    "import numpy as np\n",
    "import pandas as pd\n",
    "\n",
    "# Set random seed for reproducibility\n",
    "np.random.seed(42)\n",
    "\n",
    "# Generate years of experience\n",
    "years_experience = np.random.randint(0, 21, 100)\n",
    "\n",
    "# Define salary with some noise\n",
    "base_salary = 30000\n",
    "increment_per_year = 1500\n",
    "noise = np.random.normal(0, 5000, 100)\n",
    "\n",
    "salary = base_salary + increment_per_year * years_experience + noise\n",
    "\n",
    "# Create DataFrame\n",
    "df = pd.DataFrame({\n",
    "    'YearsExperience': years_experience,\n",
    "    'Salary': salary\n",
    "})\n",
    "\n",
    "# Save to CSV\n",
    "df.to_csv('salary_experience_dataset.csv', index=False)\n",
    "\n",
    "print(\"Dataset saved as 'salary_experience_dataset.csv'\")\n"
   ]
  }
 ],
 "metadata": {
  "kernelspec": {
   "display_name": "pyenv",
   "language": "python",
   "name": "python3"
  },
  "language_info": {
   "codemirror_mode": {
    "name": "ipython",
    "version": 3
   },
   "file_extension": ".py",
   "mimetype": "text/x-python",
   "name": "python",
   "nbconvert_exporter": "python",
   "pygments_lexer": "ipython3",
   "version": "3.10.18"
  }
 },
 "nbformat": 4,
 "nbformat_minor": 5
}
